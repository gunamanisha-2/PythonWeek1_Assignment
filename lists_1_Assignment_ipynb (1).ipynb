{
  "nbformat": 4,
  "nbformat_minor": 0,
  "metadata": {
    "colab": {
      "provenance": []
    },
    "kernelspec": {
      "name": "python3",
      "display_name": "Python 3"
    },
    "language_info": {
      "name": "python"
    }
  },
  "cells": [
    {
      "cell_type": "markdown",
      "source": [
        "1.Are lists mutable or immutable, explain with an example"
      ],
      "metadata": {
        "id": "Mxypr15V3U7e"
      }
    },
    {
      "cell_type": "code",
      "source": [
        "#Lists are mutable in python ,their elements can be changed after the list created.\n",
        "list1=[1,2,3,4]\n",
        "list1[1]=5\n",
        "print(list1)"
      ],
      "metadata": {
        "id": "c_aTKXsT3p0P",
        "colab": {
          "base_uri": "https://localhost:8080/"
        },
        "outputId": "2bca41eb-bc44-4cc3-ba25-dddcaf49f0b1"
      },
      "execution_count": 1,
      "outputs": [
        {
          "output_type": "stream",
          "name": "stdout",
          "text": [
            "[1, 5, 3, 4]\n"
          ]
        }
      ]
    },
    {
      "cell_type": "markdown",
      "source": [
        "2.Take any example of list on your own and perform atleast 5 list operations on that"
      ],
      "metadata": {
        "id": "uPYH4kpZ3U97"
      }
    },
    {
      "cell_type": "code",
      "source": [
        "list1=[1,2,3,4,5]\n",
        "#Accessing (we can access values through index)\n",
        "print(list1[2])\n",
        "#Append(elements will be added at last of list)\n",
        "list1.append(50)\n",
        "print(list1)\n",
        "#insert(elements will be inserted at particular index)\n",
        "list1.insert(1,10)\n",
        "print(list1)\n",
        "#sort(elements will be sorted in ascending order)\n",
        "list1.sort()\n",
        "print(list1)\n",
        "#remove(element will be removed from the list)\n",
        "list1.remove(10)\n",
        "print(list1)"
      ],
      "metadata": {
        "id": "vSxe0pwG36ME",
        "colab": {
          "base_uri": "https://localhost:8080/"
        },
        "outputId": "9081770b-ef8e-4a9e-ed23-4efe3b3ad44d"
      },
      "execution_count": 4,
      "outputs": [
        {
          "output_type": "stream",
          "name": "stdout",
          "text": [
            "3\n",
            "[1, 2, 3, 4, 5, 50]\n",
            "[1, 10, 2, 3, 4, 5, 50]\n",
            "[1, 2, 3, 4, 5, 10, 50]\n",
            "[1, 2, 3, 4, 5, 50]\n"
          ]
        }
      ]
    },
    {
      "cell_type": "markdown",
      "source": [
        "3.Create a new list containing only the even numbers from the original list.\n",
        "\n",
        "original list ;[1,2,2,4,5,6,7,12,3,456,78,67,89,90]"
      ],
      "metadata": {
        "id": "1aSo9eEU3VAT"
      }
    },
    {
      "cell_type": "code",
      "source": [
        "even_list=[]\n",
        "original_list=[1,2,2,4,5,6,7,12,3,456,78,67,89,90]\n",
        "for i in original_list:\n",
        "    if i%2==0:\n",
        "        even_list.append(i)\n",
        "print(even_list)"
      ],
      "metadata": {
        "id": "e-_3vMX54Upe",
        "colab": {
          "base_uri": "https://localhost:8080/"
        },
        "outputId": "63e87087-af64-4af0-bd34-c6295ef3c5ec"
      },
      "execution_count": 5,
      "outputs": [
        {
          "output_type": "stream",
          "name": "stdout",
          "text": [
            "[2, 2, 4, 6, 12, 456, 78, 90]\n"
          ]
        }
      ]
    },
    {
      "cell_type": "markdown",
      "source": [
        "4.Create a new list with the squares of each element in the original list.\n",
        "\n",
        "original list : [3,5,6,8,2,45]"
      ],
      "metadata": {
        "id": "y1b95q7k3VCz"
      }
    },
    {
      "cell_type": "code",
      "source": [
        "square_list=[]\n",
        "original_list=[3,5,6,8,2,45]\n",
        "for i in original_list:\n",
        "    square_list.append(i**2)\n",
        "print(square_list)"
      ],
      "metadata": {
        "id": "97M5xax24jM4",
        "colab": {
          "base_uri": "https://localhost:8080/"
        },
        "outputId": "f944545c-693b-402a-d879-bcef4b68546d"
      },
      "execution_count": 6,
      "outputs": [
        {
          "output_type": "stream",
          "name": "stdout",
          "text": [
            "[9, 25, 36, 64, 4, 2025]\n"
          ]
        }
      ]
    },
    {
      "cell_type": "markdown",
      "source": [
        "5.Check if all elements in the list are positive and return all the positive elements in a new list.\n",
        "\n",
        "input ; [12,23,4,56,77,-89,7,90,90,-87,-99]"
      ],
      "metadata": {
        "id": "pzrQ5WBZ3VFQ"
      }
    },
    {
      "cell_type": "code",
      "source": [
        "positive_list=[]\n",
        "input_list=[12,23,4,56,77,-89,7,90,90,-87,-99]\n",
        "for i in input_list:\n",
        "    if i>0:\n",
        "        positive_list.append(i)\n",
        "print(positive_list)"
      ],
      "metadata": {
        "id": "8x0148io5FcT",
        "colab": {
          "base_uri": "https://localhost:8080/"
        },
        "outputId": "2b4605e4-7c57-499f-d6c9-2176bca24ffa"
      },
      "execution_count": 7,
      "outputs": [
        {
          "output_type": "stream",
          "name": "stdout",
          "text": [
            "[12, 23, 4, 56, 77, 7, 90, 90]\n"
          ]
        }
      ]
    }
  ]
}