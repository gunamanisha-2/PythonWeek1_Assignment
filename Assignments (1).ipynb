{
  "cells": [
    {
      "cell_type": "code",
      "execution_count": null,
      "metadata": {
        "id": "-3pJeOMPw1ZD"
      },
      "outputs": [],
      "source": [
        "#Consider the string given below and answer the following questions\n",
        "string = \"OQYWFClFhFGAvIWYwGKpmZhnJiyzTslSIhSwvOsqJMEphzmifTkyqOMNpnOtXZxmCfgDYqbaBHAUvIWhMnvwZnEMVDvmEfLrDoQnAZgQEgXQVnmSYkfedpAdhrtpOgORpYLRZYGWdhWYuqQssCUXtTzKRDAhpjUheOzUroZNzWFtZOVwIapzUYtbSbjYNErzQ\"\n"
      ]
    },
    {
      "cell_type": "markdown",
      "metadata": {
        "id": "_sElJ_mgw1ZF"
      },
      "source": [
        "####  Calculate the number of characters in the string\n",
        "\n",
        "-  193\n",
        "-  200\n",
        "-  300\n",
        "-  500\n"
      ]
    },
    {
      "cell_type": "code",
      "execution_count": null,
      "metadata": {
        "colab": {
          "base_uri": "https://localhost:8080/"
        },
        "id": "cEdhgvlOw1ZG",
        "outputId": "04411381-778c-4bac-d71a-643ba6ce1c6c"
      },
      "outputs": [
        {
          "output_type": "stream",
          "name": "stdout",
          "text": [
            "193\n"
          ]
        }
      ],
      "source": [
        "print(len(string))"
      ]
    },
    {
      "cell_type": "markdown",
      "metadata": {
        "id": "AQFCNshBw1ZG"
      },
      "source": [
        "#### Count the number of occurences of 'a' in the string\n",
        "\n",
        "-  1\n",
        "-  2\n",
        "-  10\n",
        "-  5"
      ]
    },
    {
      "cell_type": "code",
      "execution_count": null,
      "metadata": {
        "colab": {
          "base_uri": "https://localhost:8080/"
        },
        "id": "A5rMpoZJw1ZH",
        "outputId": "b6295083-f35a-448a-99d1-b6b61d3e8928"
      },
      "outputs": [
        {
          "output_type": "stream",
          "name": "stdout",
          "text": [
            "2\n"
          ]
        }
      ],
      "source": [
        "print(string.count('a',0,len(string)))"
      ]
    },
    {
      "cell_type": "markdown",
      "metadata": {
        "id": "ni_4d8Q1w1ZH"
      },
      "source": [
        "#### Identify whether the string starts with 'if'.\n",
        "\n",
        "-  True\n",
        "-  False"
      ]
    },
    {
      "cell_type": "code",
      "execution_count": null,
      "metadata": {
        "colab": {
          "base_uri": "https://localhost:8080/"
        },
        "id": "Gyzm5o0Qw1ZH",
        "outputId": "950882a1-e5fe-488b-9534-74fc42599d6c"
      },
      "outputs": [
        {
          "output_type": "stream",
          "name": "stdout",
          "text": [
            "False\n"
          ]
        }
      ],
      "source": [
        "print(string.startswith('if'))"
      ]
    },
    {
      "cell_type": "markdown",
      "metadata": {
        "id": "vmcd5Vp-w1ZH"
      },
      "source": [
        "#### Return the substring starting at index 63 and ending at index 88  [Both the indexes are inclusive]\n",
        "\n",
        "-  'OQYWFClFhFGA'\n",
        "-  'mCfgDYqbaBHAUvIWhMnvwZnEMV'\n",
        "-  'IWYwGKpmZhnJiyzTslSIhSwv'\n",
        "-  'JMEphzmifTkyqOMNpnOtXZ'"
      ]
    },
    {
      "cell_type": "code",
      "execution_count": null,
      "metadata": {
        "collapsed": true,
        "colab": {
          "base_uri": "https://localhost:8080/"
        },
        "id": "uZ4g91yEw1ZI",
        "outputId": "67eb0cf6-f53b-4fc1-9a94-ac32621fe404"
      },
      "outputs": [
        {
          "output_type": "stream",
          "name": "stdout",
          "text": [
            "mCfgDYqbaBHAUvIWhMnvwZnEMV\n"
          ]
        }
      ],
      "source": [
        "print(string[63:89:1])"
      ]
    },
    {
      "cell_type": "markdown",
      "metadata": {
        "id": "GyB24e0Hw1ZI"
      },
      "source": [
        "#### Identify the character at index 45\n",
        "\n",
        "-  a\n",
        "-  b\n",
        "-  z\n",
        "-  x"
      ]
    },
    {
      "cell_type": "code",
      "execution_count": null,
      "metadata": {
        "colab": {
          "base_uri": "https://localhost:8080/"
        },
        "id": "qhMShljMw1ZJ",
        "outputId": "733d8881-c24d-48ab-ee92-f1fd47950d41"
      },
      "outputs": [
        {
          "output_type": "stream",
          "name": "stdout",
          "text": [
            "z\n"
          ]
        }
      ],
      "source": [
        "print(string[45])"
      ]
    },
    {
      "cell_type": "code",
      "execution_count": null,
      "metadata": {
        "collapsed": true,
        "id": "MLU8IJwrw1ZJ"
      },
      "outputs": [],
      "source": []
    }
  ],
  "metadata": {
    "kernelspec": {
      "display_name": "Python 3",
      "language": "python",
      "name": "python3"
    },
    "language_info": {
      "codemirror_mode": {
        "name": "ipython",
        "version": 3
      },
      "file_extension": ".py",
      "mimetype": "text/x-python",
      "name": "python",
      "nbconvert_exporter": "python",
      "pygments_lexer": "ipython3",
      "version": "3.7.3"
    },
    "colab": {
      "provenance": []
    }
  },
  "nbformat": 4,
  "nbformat_minor": 0
}