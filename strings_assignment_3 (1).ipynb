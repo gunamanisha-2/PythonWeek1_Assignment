{
  "nbformat": 4,
  "nbformat_minor": 0,
  "metadata": {
    "colab": {
      "provenance": []
    },
    "kernelspec": {
      "name": "python3",
      "display_name": "Python 3"
    },
    "language_info": {
      "name": "python"
    }
  },
  "cells": [
    {
      "cell_type": "markdown",
      "source": [
        "1.Write a Python program to count the number of vowels in a string.\n",
        "\n",
        "input : hasdfgeuionhjl"
      ],
      "metadata": {
        "id": "q8RkYTES1QUW"
      }
    },
    {
      "cell_type": "code",
      "source": [
        "input = \"hasdfgeuionhjl\"\n",
        "l=['a','e','i','o','u']\n",
        "s=0\n",
        "for i in range(len(l)):\n",
        "  s+=input.count(l[i])\n",
        "print(s)"
      ],
      "metadata": {
        "id": "UHi6ezjV1X0s",
        "colab": {
          "base_uri": "https://localhost:8080/"
        },
        "outputId": "a4bef8bd-94c9-4328-e8cd-0a051a286760"
      },
      "execution_count": null,
      "outputs": [
        {
          "output_type": "stream",
          "name": "stdout",
          "text": [
            "5\n"
          ]
        }
      ]
    },
    {
      "cell_type": "markdown",
      "source": [
        "2.Write a Python program to count the occurrences of each word in a sentence.\n",
        "\n",
        "input : hi hello hi and and hi more and more programming"
      ],
      "metadata": {
        "id": "v7GBEK161QWy"
      }
    },
    {
      "cell_type": "code",
      "source": [
        "input = \"hi hello hi and and hi more and more programming\"\n",
        "s=set()\n",
        "s=set(input.split(\" \"))\n",
        "for i in s:\n",
        "  print(i,input.count(i))"
      ],
      "metadata": {
        "id": "R-UzDybK1uZo",
        "colab": {
          "base_uri": "https://localhost:8080/"
        },
        "outputId": "5b8663f2-2f5f-4967-88a3-d6f716ac1186"
      },
      "execution_count": null,
      "outputs": [
        {
          "output_type": "stream",
          "name": "stdout",
          "text": [
            "more 2\n",
            "programming 1\n",
            "hi 3\n",
            "hello 1\n",
            "and 3\n"
          ]
        }
      ]
    },
    {
      "cell_type": "markdown",
      "source": [
        "3.In python how can you differentiate strings and lists. Give atleast 5 different comparisons between them."
      ],
      "metadata": {
        "id": "evCcw-0H1QY9"
      }
    },
    {
      "cell_type": "markdown",
      "source": [
        "Answer:\n",
        "1.   Strings are immutable and lists are mutable\n",
        "2.   String contain only characters and list contains elements of any type.\n",
        "3.   String has a fixed length but list can dynamically grow while adding the element and shrink while removing the element.\n",
        "4.   Strings are indexed by characters, and each index represents a single character and Lists are indexed by elements, and each index represents an individual element, which can be any type.\n",
        "5.  Strings have string-specific methods like lower(), upper(), replace(), find() and Lists have list-specific methods like append(), extend(), pop(), remove(), sort().\n",
        "\n"
      ],
      "metadata": {
        "id": "OfiTI0pv1QbU"
      }
    },
    {
      "cell_type": "markdown",
      "source": [
        "4.Write a string for your own of approximately 40 in length and perform any 5 different string operations on that."
      ],
      "metadata": {
        "id": "riR1PWxG1Qdq"
      }
    },
    {
      "cell_type": "code",
      "source": [
        "string1=\"abcdefghijklmnopqrstuvwxyzabcdefghijklmno\"\n",
        "string2=\"nafskuhfiurhieiorjlnvnhughheioeirnkiuruuh\"\n",
        "#1.String Concatenation\n",
        "print(string1+string2)\n",
        "#2.Repetition\n",
        "print(string1*3)\n",
        "#3.Indexing\n",
        "print(string1[29])\n",
        "print(string2[-25])\n",
        "#4 slicing\n",
        "print(string1[1:10])\n",
        "print(string2[20:])\n",
        "#5.Length\n",
        "print(len(string1),len(string2))"
      ],
      "metadata": {
        "id": "3bHyrDS12e8i",
        "colab": {
          "base_uri": "https://localhost:8080/"
        },
        "outputId": "a304b5ac-46d2-4511-ec48-eb21922c82d5"
      },
      "execution_count": 2,
      "outputs": [
        {
          "output_type": "stream",
          "name": "stdout",
          "text": [
            "abcdefghijklmnopqrstuvwxyzabcdefghijklmnonafskuhfiurhieiorjlnvnhughheioeirnkiuruuh\n",
            "abcdefghijklmnopqrstuvwxyzabcdefghijklmnoabcdefghijklmnopqrstuvwxyzabcdefghijklmnoabcdefghijklmnopqrstuvwxyzabcdefghijklmno\n",
            "d\n",
            "r\n",
            "bcdefghij\n",
            "vnhughheioeirnkiuruuh\n",
            "41 41\n"
          ]
        }
      ]
    },
    {
      "cell_type": "markdown",
      "source": [
        "5.Explain the concatination in strings with a neat example."
      ],
      "metadata": {
        "id": "bbUm7VVN1Qfu"
      }
    },
    {
      "cell_type": "code",
      "source": [
        "# Concatination is nothing but combining two or more strings into a single string.It can be done by using '+' opeartor\n",
        "string1=\"Good\"\n",
        "string2=\"Morning\"\n",
        "newstr=string1+\" \"+string2\n",
        "print(newstr)"
      ],
      "metadata": {
        "id": "y9292Q452tF0",
        "colab": {
          "base_uri": "https://localhost:8080/"
        },
        "outputId": "836b4772-cbbe-4c53-a3d2-5779d2d9959f"
      },
      "execution_count": 4,
      "outputs": [
        {
          "output_type": "stream",
          "name": "stdout",
          "text": [
            "Good Morning\n"
          ]
        }
      ]
    },
    {
      "cell_type": "code",
      "source": [],
      "metadata": {
        "id": "vnMNtJgq2xuG"
      },
      "execution_count": null,
      "outputs": []
    }
  ]
}